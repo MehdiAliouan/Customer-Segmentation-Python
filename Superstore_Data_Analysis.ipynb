{
 "cells": [
  {
   "cell_type": "code",
   "execution_count": 1,
   "id": "7cda869e",
   "metadata": {},
   "outputs": [
    {
     "name": "stderr",
     "output_type": "stream",
     "text": [
      "C:\\Users\\ElMehdi\\anaconda3\\lib\\site-packages\\scipy\\__init__.py:138: UserWarning: A NumPy version >=1.16.5 and <1.23.0 is required for this version of SciPy (detected version 1.24.4)\n",
      "  warnings.warn(f\"A NumPy version >={np_minversion} and <{np_maxversion} is required for this version of \"\n"
     ]
    }
   ],
   "source": [
    "# import librairies\n",
    "import pandas as pd\n",
    "import numpy as np\n",
    "import matplotlib.pyplot as plt\n",
    "import seaborn as sns"
   ]
  },
  {
   "cell_type": "code",
   "execution_count": 2,
   "id": "0fae2d35",
   "metadata": {},
   "outputs": [],
   "source": [
    "df = pd.read_csv(r\"C:\\Users\\ElMehdi\\Documents\\Projects\\Super-store-data-analysis\\Sample - Superstore.csv\", encoding='ISO-8859-1')"
   ]
  },
  {
   "cell_type": "code",
   "execution_count": 3,
   "id": "5f8edcbb",
   "metadata": {},
   "outputs": [
    {
     "data": {
      "text/html": [
       "<div>\n",
       "<style scoped>\n",
       "    .dataframe tbody tr th:only-of-type {\n",
       "        vertical-align: middle;\n",
       "    }\n",
       "\n",
       "    .dataframe tbody tr th {\n",
       "        vertical-align: top;\n",
       "    }\n",
       "\n",
       "    .dataframe thead th {\n",
       "        text-align: right;\n",
       "    }\n",
       "</style>\n",
       "<table border=\"1\" class=\"dataframe\">\n",
       "  <thead>\n",
       "    <tr style=\"text-align: right;\">\n",
       "      <th></th>\n",
       "      <th>Row ID</th>\n",
       "      <th>Order ID</th>\n",
       "      <th>Order Date</th>\n",
       "      <th>Ship Date</th>\n",
       "      <th>Ship Mode</th>\n",
       "      <th>Customer ID</th>\n",
       "      <th>Customer Name</th>\n",
       "      <th>Segment</th>\n",
       "      <th>Country</th>\n",
       "      <th>City</th>\n",
       "      <th>...</th>\n",
       "      <th>Postal Code</th>\n",
       "      <th>Region</th>\n",
       "      <th>Product ID</th>\n",
       "      <th>Category</th>\n",
       "      <th>Sub-Category</th>\n",
       "      <th>Product Name</th>\n",
       "      <th>Sales</th>\n",
       "      <th>Quantity</th>\n",
       "      <th>Discount</th>\n",
       "      <th>Profit</th>\n",
       "    </tr>\n",
       "  </thead>\n",
       "  <tbody>\n",
       "    <tr>\n",
       "      <th>0</th>\n",
       "      <td>1</td>\n",
       "      <td>CA-2016-152156</td>\n",
       "      <td>11/8/2016</td>\n",
       "      <td>11/11/2016</td>\n",
       "      <td>Second Class</td>\n",
       "      <td>CG-12520</td>\n",
       "      <td>Claire Gute</td>\n",
       "      <td>Consumer</td>\n",
       "      <td>United States</td>\n",
       "      <td>Henderson</td>\n",
       "      <td>...</td>\n",
       "      <td>42420</td>\n",
       "      <td>South</td>\n",
       "      <td>FUR-BO-10001798</td>\n",
       "      <td>Furniture</td>\n",
       "      <td>Bookcases</td>\n",
       "      <td>Bush Somerset Collection Bookcase</td>\n",
       "      <td>261.9600</td>\n",
       "      <td>2</td>\n",
       "      <td>0.00</td>\n",
       "      <td>41.9136</td>\n",
       "    </tr>\n",
       "    <tr>\n",
       "      <th>1</th>\n",
       "      <td>2</td>\n",
       "      <td>CA-2016-152156</td>\n",
       "      <td>11/8/2016</td>\n",
       "      <td>11/11/2016</td>\n",
       "      <td>Second Class</td>\n",
       "      <td>CG-12520</td>\n",
       "      <td>Claire Gute</td>\n",
       "      <td>Consumer</td>\n",
       "      <td>United States</td>\n",
       "      <td>Henderson</td>\n",
       "      <td>...</td>\n",
       "      <td>42420</td>\n",
       "      <td>South</td>\n",
       "      <td>FUR-CH-10000454</td>\n",
       "      <td>Furniture</td>\n",
       "      <td>Chairs</td>\n",
       "      <td>Hon Deluxe Fabric Upholstered Stacking Chairs,...</td>\n",
       "      <td>731.9400</td>\n",
       "      <td>3</td>\n",
       "      <td>0.00</td>\n",
       "      <td>219.5820</td>\n",
       "    </tr>\n",
       "    <tr>\n",
       "      <th>2</th>\n",
       "      <td>3</td>\n",
       "      <td>CA-2016-138688</td>\n",
       "      <td>6/12/2016</td>\n",
       "      <td>6/16/2016</td>\n",
       "      <td>Second Class</td>\n",
       "      <td>DV-13045</td>\n",
       "      <td>Darrin Van Huff</td>\n",
       "      <td>Corporate</td>\n",
       "      <td>United States</td>\n",
       "      <td>Los Angeles</td>\n",
       "      <td>...</td>\n",
       "      <td>90036</td>\n",
       "      <td>West</td>\n",
       "      <td>OFF-LA-10000240</td>\n",
       "      <td>Office Supplies</td>\n",
       "      <td>Labels</td>\n",
       "      <td>Self-Adhesive Address Labels for Typewriters b...</td>\n",
       "      <td>14.6200</td>\n",
       "      <td>2</td>\n",
       "      <td>0.00</td>\n",
       "      <td>6.8714</td>\n",
       "    </tr>\n",
       "    <tr>\n",
       "      <th>3</th>\n",
       "      <td>4</td>\n",
       "      <td>US-2015-108966</td>\n",
       "      <td>10/11/2015</td>\n",
       "      <td>10/18/2015</td>\n",
       "      <td>Standard Class</td>\n",
       "      <td>SO-20335</td>\n",
       "      <td>Sean O'Donnell</td>\n",
       "      <td>Consumer</td>\n",
       "      <td>United States</td>\n",
       "      <td>Fort Lauderdale</td>\n",
       "      <td>...</td>\n",
       "      <td>33311</td>\n",
       "      <td>South</td>\n",
       "      <td>FUR-TA-10000577</td>\n",
       "      <td>Furniture</td>\n",
       "      <td>Tables</td>\n",
       "      <td>Bretford CR4500 Series Slim Rectangular Table</td>\n",
       "      <td>957.5775</td>\n",
       "      <td>5</td>\n",
       "      <td>0.45</td>\n",
       "      <td>-383.0310</td>\n",
       "    </tr>\n",
       "    <tr>\n",
       "      <th>4</th>\n",
       "      <td>5</td>\n",
       "      <td>US-2015-108966</td>\n",
       "      <td>10/11/2015</td>\n",
       "      <td>10/18/2015</td>\n",
       "      <td>Standard Class</td>\n",
       "      <td>SO-20335</td>\n",
       "      <td>Sean O'Donnell</td>\n",
       "      <td>Consumer</td>\n",
       "      <td>United States</td>\n",
       "      <td>Fort Lauderdale</td>\n",
       "      <td>...</td>\n",
       "      <td>33311</td>\n",
       "      <td>South</td>\n",
       "      <td>OFF-ST-10000760</td>\n",
       "      <td>Office Supplies</td>\n",
       "      <td>Storage</td>\n",
       "      <td>Eldon Fold 'N Roll Cart System</td>\n",
       "      <td>22.3680</td>\n",
       "      <td>2</td>\n",
       "      <td>0.20</td>\n",
       "      <td>2.5164</td>\n",
       "    </tr>\n",
       "  </tbody>\n",
       "</table>\n",
       "<p>5 rows × 21 columns</p>\n",
       "</div>"
      ],
      "text/plain": [
       "   Row ID        Order ID  Order Date   Ship Date       Ship Mode Customer ID  \\\n",
       "0       1  CA-2016-152156   11/8/2016  11/11/2016    Second Class    CG-12520   \n",
       "1       2  CA-2016-152156   11/8/2016  11/11/2016    Second Class    CG-12520   \n",
       "2       3  CA-2016-138688   6/12/2016   6/16/2016    Second Class    DV-13045   \n",
       "3       4  US-2015-108966  10/11/2015  10/18/2015  Standard Class    SO-20335   \n",
       "4       5  US-2015-108966  10/11/2015  10/18/2015  Standard Class    SO-20335   \n",
       "\n",
       "     Customer Name    Segment        Country             City  ...  \\\n",
       "0      Claire Gute   Consumer  United States        Henderson  ...   \n",
       "1      Claire Gute   Consumer  United States        Henderson  ...   \n",
       "2  Darrin Van Huff  Corporate  United States      Los Angeles  ...   \n",
       "3   Sean O'Donnell   Consumer  United States  Fort Lauderdale  ...   \n",
       "4   Sean O'Donnell   Consumer  United States  Fort Lauderdale  ...   \n",
       "\n",
       "  Postal Code  Region       Product ID         Category Sub-Category  \\\n",
       "0       42420   South  FUR-BO-10001798        Furniture    Bookcases   \n",
       "1       42420   South  FUR-CH-10000454        Furniture       Chairs   \n",
       "2       90036    West  OFF-LA-10000240  Office Supplies       Labels   \n",
       "3       33311   South  FUR-TA-10000577        Furniture       Tables   \n",
       "4       33311   South  OFF-ST-10000760  Office Supplies      Storage   \n",
       "\n",
       "                                        Product Name     Sales  Quantity  \\\n",
       "0                  Bush Somerset Collection Bookcase  261.9600         2   \n",
       "1  Hon Deluxe Fabric Upholstered Stacking Chairs,...  731.9400         3   \n",
       "2  Self-Adhesive Address Labels for Typewriters b...   14.6200         2   \n",
       "3      Bretford CR4500 Series Slim Rectangular Table  957.5775         5   \n",
       "4                     Eldon Fold 'N Roll Cart System   22.3680         2   \n",
       "\n",
       "   Discount    Profit  \n",
       "0      0.00   41.9136  \n",
       "1      0.00  219.5820  \n",
       "2      0.00    6.8714  \n",
       "3      0.45 -383.0310  \n",
       "4      0.20    2.5164  \n",
       "\n",
       "[5 rows x 21 columns]"
      ]
     },
     "execution_count": 3,
     "metadata": {},
     "output_type": "execute_result"
    }
   ],
   "source": [
    "df.head(5)"
   ]
  },
  {
   "cell_type": "code",
   "execution_count": 4,
   "id": "1bf780a8",
   "metadata": {},
   "outputs": [
    {
     "name": "stdout",
     "output_type": "stream",
     "text": [
      "<class 'pandas.core.frame.DataFrame'>\n",
      "RangeIndex: 9994 entries, 0 to 9993\n",
      "Data columns (total 21 columns):\n",
      " #   Column         Non-Null Count  Dtype  \n",
      "---  ------         --------------  -----  \n",
      " 0   Row ID         9994 non-null   int64  \n",
      " 1   Order ID       9994 non-null   object \n",
      " 2   Order Date     9994 non-null   object \n",
      " 3   Ship Date      9994 non-null   object \n",
      " 4   Ship Mode      9994 non-null   object \n",
      " 5   Customer ID    9994 non-null   object \n",
      " 6   Customer Name  9994 non-null   object \n",
      " 7   Segment        9994 non-null   object \n",
      " 8   Country        9994 non-null   object \n",
      " 9   City           9994 non-null   object \n",
      " 10  State          9994 non-null   object \n",
      " 11  Postal Code    9994 non-null   int64  \n",
      " 12  Region         9994 non-null   object \n",
      " 13  Product ID     9994 non-null   object \n",
      " 14  Category       9994 non-null   object \n",
      " 15  Sub-Category   9994 non-null   object \n",
      " 16  Product Name   9994 non-null   object \n",
      " 17  Sales          9994 non-null   float64\n",
      " 18  Quantity       9994 non-null   int64  \n",
      " 19  Discount       9994 non-null   float64\n",
      " 20  Profit         9994 non-null   float64\n",
      "dtypes: float64(3), int64(3), object(15)\n",
      "memory usage: 1.6+ MB\n"
     ]
    }
   ],
   "source": [
    "df.info()"
   ]
  },
  {
   "cell_type": "markdown",
   "id": "a90f2326",
   "metadata": {},
   "source": [
    "##### No null value found"
   ]
  },
  {
   "cell_type": "code",
   "execution_count": 5,
   "id": "833e9413",
   "metadata": {},
   "outputs": [
    {
     "name": "stdout",
     "output_type": "stream",
     "text": [
      "No duplicates found\n"
     ]
    }
   ],
   "source": [
    "# cheking for duplicates\n",
    "\n",
    "if df.duplicated().sum() > 0 :\n",
    "    print(\"Duplicates exist\")\n",
    "else:\n",
    "    print(\"No duplicates found\")\n"
   ]
  },
  {
   "cell_type": "markdown",
   "id": "6377daf2",
   "metadata": {},
   "source": [
    "#### Customer Segmentation"
   ]
  },
  {
   "cell_type": "code",
   "execution_count": 6,
   "id": "7cff4d68",
   "metadata": {},
   "outputs": [
    {
     "name": "stdout",
     "output_type": "stream",
     "text": [
      "['Consumer' 'Corporate' 'Home Office']\n"
     ]
    }
   ],
   "source": [
    "# Types of customer\n",
    "\n",
    "types_of_customer = df['Segment'].unique()\n",
    "print(types_of_customer)"
   ]
  },
  {
   "cell_type": "code",
   "execution_count": 7,
   "id": "cd54723b",
   "metadata": {},
   "outputs": [],
   "source": [
    "number_of_customers = df['Segment'].value_counts().reset_index()\n",
    "number_of_customers = number_of_customers.rename(columns={'Segment':'Type of customer'})"
   ]
  },
  {
   "cell_type": "code",
   "execution_count": 8,
   "id": "c9c712c5",
   "metadata": {},
   "outputs": [
    {
     "name": "stdout",
     "output_type": "stream",
     "text": [
      "  Type of customer  count\n",
      "0         Consumer   5191\n",
      "1        Corporate   3020\n",
      "2      Home Office   1783\n"
     ]
    }
   ],
   "source": [
    "print(number_of_customers)"
   ]
  },
  {
   "cell_type": "code",
   "execution_count": 9,
   "id": "7563b7fd",
   "metadata": {},
   "outputs": [
    {
     "data": {
      "image/png": "[encoded data removed]",
      "text/plain": [
       "<Figure size 432x288 with 1 Axes>"
      ]
     },
     "metadata": {},
     "output_type": "display_data"
    }
   ],
   "source": [
    "plt.pie(\n",
    "    number_of_customers['count'],\n",
    "    labels=number_of_customers['Type of customer'],\n",
    "    autopct = '%1.1f%%'\n",
    ")\n",
    "plt.title(\"Pie Chart of Customer Types\")\n",
    "plt.show()"
   ]
  },
  {
   "cell_type": "markdown",
   "id": "592c9649",
   "metadata": {},
   "source": [
    "#### Customer Sales Insight"
   ]
  },
  {
   "cell_type": "code",
   "execution_count": 10,
   "id": "422afb76",
   "metadata": {},
   "outputs": [
    {
     "name": "stdout",
     "output_type": "stream",
     "text": [
      "  Types of Customer   Total Sales\n",
      "0          Consumer  1.161401e+06\n",
      "1         Corporate  7.061464e+05\n",
      "2       Home Office  4.296531e+05\n"
     ]
    },
    {
     "data": {
      "image/png": "[encoded data removed]",
      "text/plain": [
       "<Figure size 432x288 with 1 Axes>"
      ]
     },
     "metadata": {
      "needs_background": "light"
     },
     "output_type": "display_data"
    }
   ],
   "source": [
    "sales_per_segment = df.groupby('Segment')['Sales'].sum().reset_index()\n",
    "sales_per_segment = sales_per_segment.rename(columns={'Segment' : 'Types of Customer', 'Sales' : 'Total Sales'})\n",
    "\n",
    "print(sales_per_segment)\n",
    "\n",
    "plt.bar(sales_per_segment ['Types of Customer'], sales_per_segment['Total Sales'])\n",
    "plt.xlabel('types of customer')\n",
    "plt.ylabel('total sales')\n",
    "plt.show()"
   ]
  },
  {
   "cell_type": "markdown",
   "id": "be7e2d0e",
   "metadata": {},
   "source": [
    "### Exploring Customer loyalty"
   ]
  },
  {
   "cell_type": "code",
   "execution_count": 11,
   "id": "4cf69020",
   "metadata": {},
   "outputs": [],
   "source": [
    "# customer order frequency\n",
    "\n",
    "customers_order_frequency = df.groupby(['Customer ID', 'Customer Name', 'Segment'])['Order ID'].count().reset_index()"
   ]
  },
  {
   "cell_type": "code",
   "execution_count": 12,
   "id": "8da2ab8f",
   "metadata": {},
   "outputs": [],
   "source": [
    "# renaming order id\n",
    "\n",
    "customers_order_frequency.rename(columns={'Order ID' : 'Total Order'}, inplace=True)"
   ]
  },
  {
   "cell_type": "code",
   "execution_count": 13,
   "id": "b9f52071",
   "metadata": {},
   "outputs": [
    {
     "name": "stdout",
     "output_type": "stream",
     "text": [
      "   Customer ID        Customer Name      Segment  Total Order\n",
      "0     WB-21850        William Brown     Consumer           37\n",
      "1     PP-18955           Paul Prost  Home Office           34\n",
      "2     JL-15835             John Lee     Consumer           34\n",
      "3     MA-17560         Matt Abelman  Home Office           34\n",
      "4     SV-20365          Seth Vernon     Consumer           32\n",
      "5     JD-15895     Jonathan Doherty    Corporate           32\n",
      "6     CK-12205  Chloris Kastensmidt     Consumer           32\n",
      "7     EH-13765         Edward Hooks    Corporate           32\n",
      "8     EP-13915           Emily Phan     Consumer           31\n",
      "9     ZC-21910     Zuschuss Carroll     Consumer           31\n",
      "10    AP-10915       Arthur Prichep     Consumer           31\n",
      "11    LC-16870        Lena Cacioppo     Consumer           30\n"
     ]
    }
   ],
   "source": [
    "# sorting the total order desc\n",
    "\n",
    "repeat_customers = customers_order_frequency[customers_order_frequency['Total Order'] >=1]\n",
    "\n",
    "repeat_customers_sorted = repeat_customers.sort_values(by='Total Order', ascending = False)\n",
    "\n",
    "print(repeat_customers_sorted.head(12).reset_index(drop = True))"
   ]
  },
  {
   "cell_type": "code",
   "execution_count": 14,
   "id": "ef4d3913",
   "metadata": {},
   "outputs": [
    {
     "name": "stdout",
     "output_type": "stream",
     "text": [
      "    Customer ID    Customer Name      Segment      Sales\n",
      "700    SM-20320      Sean Miller  Home Office  25043.050\n",
      "741    TC-20980     Tamara Chand    Corporate  19052.218\n",
      "621    RB-19360     Raymond Buch     Consumer  15117.339\n",
      "730    TA-21385     Tom Ashbrook  Home Office  14595.620\n",
      "6      AB-10105    Adrian Barton     Consumer  14473.571\n",
      "..          ...              ...          ...        ...\n",
      "659    RS-19870       Roy Skaria  Home Office     22.328\n",
      "508    MG-18205  Mitch Gastineau    Corporate     16.739\n",
      "145    CJ-11875     Carl Jackson    Corporate     16.520\n",
      "456    LD-16855     Lela Donovan    Corporate      5.304\n",
      "760    TS-21085    Thais Sissman     Consumer      4.833\n",
      "\n",
      "[793 rows x 4 columns]\n"
     ]
    }
   ],
   "source": [
    "# Calculating customer sales\n",
    "\n",
    "customer_sales = df.groupby(['Customer ID', 'Customer Name', 'Segment'])['Sales'].sum().reset_index()\n",
    "\n",
    "# Sorting the customer sales\n",
    "\n",
    "Top_spenders = customer_sales.sort_values(by = 'Sales', ascending=False)\n",
    "\n",
    "print(Top_spenders)"
   ]
  },
  {
   "cell_type": "markdown",
   "id": "1a9adfe1",
   "metadata": {},
   "source": [
    "#### Exploring Shipping Strategies"
   ]
  },
  {
   "cell_type": "code",
   "execution_count": 15,
   "id": "852144fe",
   "metadata": {},
   "outputs": [
    {
     "name": "stdout",
     "output_type": "stream",
     "text": [
      "  Mode of Shipement  count\n",
      "0    Standard Class   5968\n",
      "1      Second Class   1945\n",
      "2       First Class   1538\n",
      "3          Same Day    543\n"
     ]
    }
   ],
   "source": [
    "# Counting shipping model and renaming columns\n",
    "\n",
    "shipping_model = df['Ship Mode'].value_counts().reset_index()\n",
    "\n",
    "shipping_model = shipping_model.rename(columns={'index' : 'Use Frequency', 'Ship Mode' : 'Mode of Shipement'})\n",
    "\n",
    "print(shipping_model)"
   ]
  },
  {
   "cell_type": "code",
   "execution_count": 16,
   "id": "32f6512e",
   "metadata": {},
   "outputs": [
    {
     "data": {
      "image/png": "[encoded data removed]",
      "text/plain": [
       "<Figure size 576x576 with 1 Axes>"
      ]
     },
     "metadata": {},
     "output_type": "display_data"
    }
   ],
   "source": [
    "plt.figure(figsize=(8, 8))\n",
    "plt.pie(\n",
    "    shipping_model['count'],\n",
    "    labels=shipping_model['Mode of Shipement'],\n",
    "    autopct='%1.1f%%', \n",
    "    startangle=140,  \n",
    "    colors=plt.cm.Paired.colors \n",
    ")\n",
    "plt.title('Distribution of Shipment Modes') \n",
    "plt.show()"
   ]
  },
  {
   "cell_type": "code",
   "execution_count": 17,
   "id": "5d9ac8eb",
   "metadata": {},
   "outputs": [
    {
     "name": "stdout",
     "output_type": "stream",
     "text": [
      "   Number of Customers  count\n",
      "0           California   2001\n",
      "1             New York   1128\n",
      "2                Texas    985\n",
      "3         Pennsylvania    587\n",
      "4           Washington    506\n",
      "5             Illinois    492\n",
      "6                 Ohio    469\n",
      "7              Florida    383\n",
      "8             Michigan    255\n",
      "9       North Carolina    249\n",
      "10             Arizona    224\n",
      "11            Virginia    224\n",
      "12             Georgia    184\n",
      "13           Tennessee    183\n",
      "14            Colorado    182\n",
      "15             Indiana    149\n",
      "16            Kentucky    139\n",
      "17       Massachusetts    135\n",
      "18          New Jersey    130\n",
      "19              Oregon    124\n"
     ]
    }
   ],
   "source": [
    "# Exploring Sales by States and cities, counting and renaming the columns\n",
    "\n",
    "state = df['State'].value_counts().reset_index()\n",
    "state = state.rename(columns={'index' : 'State', 'State' : 'Number of Customers'})\n",
    "\n",
    "print(state.head(20))"
   ]
  },
  {
   "cell_type": "code",
   "execution_count": 18,
   "id": "cbe06403",
   "metadata": {},
   "outputs": [
    {
     "name": "stdout",
     "output_type": "stream",
     "text": [
      "            City  count\n",
      "0  New York City    915\n",
      "1    Los Angeles    747\n",
      "2   Philadelphia    537\n",
      "3  San Francisco    510\n",
      "4        Seattle    428\n",
      "5        Houston    377\n",
      "6        Chicago    314\n",
      "7       Columbus    222\n",
      "8      San Diego    170\n",
      "9    Springfield    163\n"
     ]
    }
   ],
   "source": [
    "city = df['City'].value_counts().reset_index()\n",
    "print(city.head(10))"
   ]
  },
  {
   "cell_type": "code",
   "execution_count": 19,
   "id": "1b0c2b7a",
   "metadata": {},
   "outputs": [
    {
     "name": "stdout",
     "output_type": "stream",
     "text": [
      "           State        Sales\n",
      "3     California  457687.6315\n",
      "30      New York  310876.2710\n",
      "41         Texas  170188.0458\n",
      "45    Washington  138641.2700\n",
      "36  Pennsylvania  116511.9140\n",
      "8        Florida   89473.7080\n",
      "11      Illinois   80166.1010\n",
      "33          Ohio   78258.1360\n",
      "20      Michigan   76269.6140\n",
      "44      Virginia   70636.7200\n"
     ]
    }
   ],
   "source": [
    "# Calculating and sorting Sales by States\n",
    "\n",
    "state_sales = df.groupby(['State'])['Sales'].sum().reset_index()\n",
    "\n",
    "top_sales = state_sales.sort_values(by='Sales', ascending=False)\n",
    "\n",
    "print(top_sales.head(10))"
   ]
  },
  {
   "cell_type": "code",
   "execution_count": 20,
   "id": "1a1ee558",
   "metadata": {},
   "outputs": [
    {
     "name": "stdout",
     "output_type": "stream",
     "text": [
      "            City        Sales\n",
      "0  New York City  256368.1610\n",
      "1    Los Angeles  175851.3410\n",
      "2        Seattle  119540.7420\n",
      "3  San Francisco  112669.0920\n",
      "4   Philadelphia  109077.0130\n",
      "5        Houston   64504.7604\n",
      "6        Chicago   48539.5410\n",
      "7      San Diego   47521.0290\n",
      "8   Jacksonville   44713.1830\n",
      "9    Springfield   43054.3420\n"
     ]
    }
   ],
   "source": [
    "# Calculating and sorting Sales by Cities\n",
    "\n",
    "city_sales = df.groupby(['City'])['Sales'].sum().reset_index()\n",
    "\n",
    "top_city_sales = city_sales.sort_values(by='Sales', ascending=False)\n",
    "\n",
    "print(top_city_sales.head(10).reset_index(drop=True))"
   ]
  },
  {
   "cell_type": "code",
   "execution_count": 21,
   "id": "f9220e5d",
   "metadata": {},
   "outputs": [
    {
     "name": "stdout",
     "output_type": "stream",
     "text": [
      "['Furniture' 'Office Supplies' 'Technology']\n"
     ]
    }
   ],
   "source": [
    "# looking for the popular product\n",
    "\n",
    "products = df['Category'].unique()\n",
    "\n",
    "print(products)"
   ]
  },
  {
   "cell_type": "code",
   "execution_count": 22,
   "id": "d5ce227b",
   "metadata": {},
   "outputs": [
    {
     "name": "stdout",
     "output_type": "stream",
     "text": [
      "['Bookcases' 'Chairs' 'Labels' 'Tables' 'Storage' 'Furnishings' 'Art'\n",
      " 'Phones' 'Binders' 'Appliances' 'Paper' 'Accessories' 'Envelopes'\n",
      " 'Fasteners' 'Supplies' 'Machines' 'Copiers']\n"
     ]
    }
   ],
   "source": [
    "product_subcategory = df['Sub-Category'].unique()\n",
    "\n",
    "print(product_subcategory)"
   ]
  },
  {
   "cell_type": "code",
   "execution_count": 23,
   "id": "71554296",
   "metadata": {},
   "outputs": [
    {
     "name": "stdout",
     "output_type": "stream",
     "text": [
      "          Category  Sub-Category\n",
      "1  Office Supplies             9\n",
      "0        Furniture             4\n",
      "2       Technology             4\n"
     ]
    }
   ],
   "source": [
    "# Counting and sorting the subcategory\n",
    "\n",
    "subcategory_count = df.groupby('Category')['Sub-Category'].nunique().reset_index()\n",
    "\n",
    "subcategory_count = subcategory_count.sort_values(by ='Sub-Category', ascending = False)\n",
    "\n",
    "print(subcategory_count)"
   ]
  },
  {
   "cell_type": "code",
   "execution_count": 24,
   "id": "ba8547c5",
   "metadata": {},
   "outputs": [
    {
     "name": "stdout",
     "output_type": "stream",
     "text": [
      "           Category Sub-Category        Sales\n",
      "16       Technology       Phones  330007.0540\n",
      "1         Furniture       Chairs  328449.1030\n",
      "11  Office Supplies      Storage  223843.6080\n",
      "3         Furniture       Tables  206965.5320\n",
      "6   Office Supplies      Binders  203412.7330\n",
      "15       Technology     Machines  189238.6310\n",
      "13       Technology  Accessories  167380.3180\n",
      "14       Technology      Copiers  149528.0300\n",
      "0         Furniture    Bookcases  114879.9963\n",
      "4   Office Supplies   Appliances  107532.1610\n",
      "2         Furniture  Furnishings   91705.1640\n",
      "10  Office Supplies        Paper   78479.2060\n",
      "12  Office Supplies     Supplies   46673.5380\n",
      "5   Office Supplies          Art   27118.7920\n",
      "7   Office Supplies    Envelopes   16476.4020\n",
      "9   Office Supplies       Labels   12486.3120\n",
      "8   Office Supplies    Fasteners    3024.2800\n"
     ]
    }
   ],
   "source": [
    "# Calculating the sales by subcategory\n",
    "\n",
    "subcategory_count_sales = df.groupby(['Category', 'Sub-Category'])['Sales'].sum().reset_index()\n",
    "\n",
    "subcategory_count_sales = subcategory_count_sales.sort_values(by='Sales', ascending = False)\n",
    "\n",
    "print(subcategory_count_sales)"
   ]
  },
  {
   "cell_type": "code",
   "execution_count": 25,
   "id": "fbca085b",
   "metadata": {},
   "outputs": [
    {
     "name": "stdout",
     "output_type": "stream",
     "text": [
      "          Category        Sales\n",
      "0       Technology  836154.0330\n",
      "1        Furniture  741999.7953\n",
      "2  Office Supplies  719047.0320\n"
     ]
    }
   ],
   "source": [
    "product_category = df.groupby(['Category'])['Sales'].sum().reset_index()\n",
    "\n",
    "top_product_category = product_category.sort_values(by='Sales', ascending = False)\n",
    "\n",
    "print(top_product_category.reset_index(drop=True))"
   ]
  },
  {
   "cell_type": "code",
   "execution_count": 26,
   "id": "f057ea39",
   "metadata": {},
   "outputs": [
    {
     "data": {
      "image/png": "[encoded data removed]",
      "text/plain": [
       "<Figure size 576x576 with 1 Axes>"
      ]
     },
     "metadata": {},
     "output_type": "display_data"
    }
   ],
   "source": [
    "plt.figure(figsize=(8, 8))\n",
    "plt.pie(\n",
    "    top_product_category['Sales'],\n",
    "    labels=top_product_category['Category'],\n",
    "    autopct='%1.1f%%', \n",
    "    startangle=140,  \n",
    "    colors=plt.cm.Paired.colors \n",
    ")\n",
    "plt.title('Distribution of sales by category') \n",
    "plt.show()"
   ]
  },
  {
   "cell_type": "code",
   "execution_count": 27,
   "id": "a706e33f",
   "metadata": {},
   "outputs": [
    {
     "data": {
      "image/png": "[encoded data removed]",
      "text/plain": [
       "<Figure size 720x576 with 1 Axes>"
      ]
     },
     "metadata": {
      "needs_background": "light"
     },
     "output_type": "display_data"
    }
   ],
   "source": [
    "# Sorting the subcategory sales\n",
    "\n",
    "subcategory_count_sales = subcategory_count_sales.sort_values(by='Sales', ascending=True)\n",
    "\n",
    "plt.figure(figsize=(10, 8))\n",
    "\n",
    "plt.barh(\n",
    "    subcategory_count_sales['Sub-Category'],  # y-axis labels\n",
    "    subcategory_count_sales['Sales'],  # x-axis values\n",
    "    color='#004B87',  # Optional: Bar color\n",
    "    edgecolor='black'  # Optional: Add edges to bars\n",
    ")\n",
    "\n",
    "\n",
    "plt.title('Sales by Sub-Category', fontsize=16, fontweight='bold')\n",
    "plt.xlabel('Sales', fontsize=14)\n",
    "plt.ylabel('Sub-Category', fontsize=14)\n",
    "\n",
    "plt.grid(axis='x', linestyle='--', alpha=0.7)\n",
    "\n",
    "for index, value in enumerate(subcategory_count_sales['Sales']):\n",
    "    plt.text(value, index, f'{value:,.2f}', va='center')\n",
    "\n",
    "plt.tight_layout()\n",
    "plt.show()\n"
   ]
  },
  {
   "cell_type": "code",
   "execution_count": null,
   "id": "55a3927b",
   "metadata": {},
   "outputs": [],
   "source": []
  },
  {
   "cell_type": "code",
   "execution_count": null,
   "id": "74164d2d",
   "metadata": {},
   "outputs": [],
   "source": []
  }
 ],
 "metadata": {
  "kernelspec": {
   "display_name": "Python 3",
   "language": "python",
   "name": "python3"
  },
  "language_info": {
   "codemirror_mode": {
    "name": "ipython",
    "version": 3
   },
   "file_extension": ".py",
   "mimetype": "text/x-python",
   "name": "python",
   "nbconvert_exporter": "python",
   "pygments_lexer": "ipython3",
   "version": "3.8.8"
  }
 },
 "nbformat": 4,
 "nbformat_minor": 5
}
